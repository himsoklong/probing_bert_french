{
 "cells": [
  {
   "cell_type": "code",
   "execution_count": 1,
   "id": "ebd95ae7",
   "metadata": {
    "ExecuteTime": {
     "end_time": "2023-02-09T13:11:33.657922Z",
     "start_time": "2023-02-09T13:11:33.644901Z"
    }
   },
   "outputs": [],
   "source": [
    "import conllu\n"
   ]
  },
  {
   "cell_type": "code",
   "execution_count": 8,
   "id": "c0c66890",
   "metadata": {
    "ExecuteTime": {
     "end_time": "2023-02-09T13:13:23.866235Z",
     "start_time": "2023-02-09T13:13:23.855712Z"
    }
   },
   "outputs": [
    {
     "name": "stdout",
     "output_type": "stream",
     "text": [
      "# global.columns = ID FORM LEMMA UPOS XPOS FEATS HEAD DEPREL DEPS MISC\n",
      "# sent_id = Europar.550_00011\n",
      "# text = cela signifie que leur consommation énergétique, qui représente actuellement 10% de la consommation énergétique moyenne de l'UE, enregistrera une forte augmentation à mesure qu'ils exigeront des commodités élémentaires comme l'eau chaude et, peut-être même, l'air conditionné, des moyens de transport et la modernisation de leurs industries.\n",
      "1\tcela\tcela\tPRON\t_\tNumber=Sing|PronType=Dem\t2\tnsubj\t_\t_\n",
      "2\tsignifie\tsignifier\tVERB\t_\tMood=Ind|Number=Sing|Person=3|Tense=Pres|VerbForm=Fin\t0\troot\t_\t_\n",
      "3\tque\tque\tSCONJ\t_\t_\t22\tmark\t_\t_\n",
      "4\tleur\tson\tDET\t_\tNumber=Sing|Poss=Yes\t5\tdet\t_\t_\n",
      "5\tconsommation\tconsommation\tNOUN\t_\tGender=Fem|Number=Sing\t22\tnsubj\t_\t_\n",
      "6\ténergétique\ténergétique\tADJ\t_\tNumber=Sing\t5\tamod\t_\tSpaceAfter=No\n",
      "7\t,\t,\tPUNCT\t_\t_\t5\tpunct\t_\t_\n"
     ]
    }
   ],
   "source": [
    "with open('../Dataset/UD_French-Sequoia/fr_sequoia-ud-test.conllu') as fp:\n",
    "    for line in fp.readlines()[:10]:\n",
    "        print(line, end='')"
   ]
  },
  {
   "cell_type": "code",
   "execution_count": 14,
   "id": "1e310efc",
   "metadata": {
    "ExecuteTime": {
     "end_time": "2023-02-09T13:18:19.250200Z",
     "start_time": "2023-02-09T13:18:18.706725Z"
    }
   },
   "outputs": [],
   "source": [
    "with open('../Dataset/UD_French-Sequoia/fr_sequoia-ud-train.conllu') as fp:\n",
    "    data = conllu.parse(fp.read())"
   ]
  },
  {
   "cell_type": "code",
   "execution_count": 19,
   "id": "69459e82",
   "metadata": {
    "ExecuteTime": {
     "end_time": "2023-02-09T13:20:54.381837Z",
     "start_time": "2023-02-09T13:20:54.374437Z"
    }
   },
   "outputs": [
    {
     "data": {
      "text/plain": [
       "TokenTree<token={id=8, form=entré}, children=[...]>"
      ]
     },
     "execution_count": 19,
     "metadata": {},
     "output_type": "execute_result"
    }
   ],
   "source": [
    "data[100].to_tree()"
   ]
  },
  {
   "cell_type": "code",
   "execution_count": 48,
   "id": "fd042145",
   "metadata": {
    "ExecuteTime": {
     "end_time": "2023-02-10T07:15:00.642891Z",
     "start_time": "2023-02-10T07:14:59.908664Z"
    }
   },
   "outputs": [
    {
     "name": "stdout",
     "output_type": "stream",
     "text": [
      "['\"', 'Tout', 'simplement', '\"', ',', 'a', 'précisé', 'Roger', 'Thiriot', ',', '\"', 'parce', 'que', \"l'\", 'histoire', 'du', 'de', 'le', 'travail', 'industriel', 'est', ',', 'ici', ',', 'une', 'longue', 'et', 'vieille', 'histoire', '.']\n",
      "['PUNCT', 'ADV', 'ADV', 'PUNCT', 'PUNCT', 'AUX', 'VERB', 'PROPN', 'PROPN', 'PUNCT', 'PUNCT', 'SCONJ', 'SCONJ', 'DET', 'NOUN', '_', 'ADP', 'DET', 'NOUN', 'ADJ', 'AUX', 'PUNCT', 'ADV', 'PUNCT', 'DET', 'ADJ', 'CCONJ', 'ADJ', 'NOUN', 'PUNCT']\n"
     ]
    }
   ],
   "source": [
    "def load_conllu(filename):\n",
    "    with open(filename) as fp:\n",
    "        data = conllu.parse(fp.read())\n",
    "        sentences = [[token['form'] for token in sentence] for sentence in data]\n",
    "        taggings = [[token['upos'] for token in sentence] for sentence in data]\n",
    "    return sentences, taggings\n",
    "\n",
    "train_sentences, train_taggings = load_conllu('../Dataset/UD_French-Sequoia/fr_sequoia-ud-train.conllu')\n",
    "valid_sentences, valid_taggings = load_conllu('../Dataset/UD_French-Sequoia/fr_sequoia-ud-dev.conllu')\n",
    "test_sentences, test_taggings = load_conllu('../Dataset/UD_French-Sequoia/fr_sequoia-ud-test.conllu')\n",
    "\n",
    "print(train_sentences[10])\n",
    "print(train_taggings[10])"
   ]
  },
  {
   "cell_type": "code",
   "execution_count": 37,
   "id": "59147f71",
   "metadata": {
    "ExecuteTime": {
     "end_time": "2023-02-09T13:33:07.705827Z",
     "start_time": "2023-02-09T13:33:07.701705Z"
    }
   },
   "outputs": [
    {
     "data": {
      "text/plain": [
       "14450"
      ]
     },
     "execution_count": 37,
     "metadata": {},
     "output_type": "execute_result"
    }
   ],
   "source": [
    "len(train_sentences)"
   ]
  },
  {
   "cell_type": "code",
   "execution_count": 38,
   "id": "174c6125",
   "metadata": {
    "ExecuteTime": {
     "end_time": "2023-02-10T06:58:07.898135Z",
     "start_time": "2023-02-10T06:58:07.818594Z"
    }
   },
   "outputs": [
    {
     "name": "stdout",
     "output_type": "stream",
     "text": [
      "number of different tags: 17\n",
      "66434 NOUN\n",
      "56470 ADP\n",
      "54148 DET\n",
      "39010 PUNCT\n",
      "28312 VERB\n",
      "25196 PROPN\n",
      "20964 ADJ\n",
      "15697 PRON\n",
      "12801 ADV\n",
      "11465 AUX\n",
      "9689 _\n",
      "9297 CCONJ\n",
      "9242 NUM\n",
      "2601 SCONJ\n",
      "2234 X\n",
      "618 SYM\n",
      "69 INTJ\n"
     ]
    }
   ],
   "source": [
    "# use a defaultdict to count the number of occurrences of each tag\n",
    "import collections\n",
    "tagset = collections.defaultdict(int)\n",
    "\n",
    "for tagging in train_taggings:\n",
    "    for tag in tagging:\n",
    "        tagset[tag] += 1\n",
    "\n",
    "print('number of different tags:', len(tagset))\n",
    "\n",
    "# print count and tag sorted by decreasing count\n",
    "for tag, count in sorted(tagset.items(), reverse=True, key=lambda x: x[1]):\n",
    "    print(count, tag)"
   ]
  },
  {
   "cell_type": "code",
   "execution_count": 39,
   "id": "7cc9c6fa",
   "metadata": {
    "ExecuteTime": {
     "end_time": "2023-02-10T06:58:23.231475Z",
     "start_time": "2023-02-10T06:58:22.551570Z"
    }
   },
   "outputs": [
    {
     "data": {
      "image/png": "[encoded data removed]",
      "text/plain": [
       "<Figure size 640x480 with 1 Axes>"
      ]
     },
     "metadata": {},
     "output_type": "display_data"
    },
    {
     "name": "stdout",
     "output_type": "stream",
     "text": [
      "max length: 400\n"
     ]
    }
   ],
   "source": [
    "from matplotlib import pyplot as plt\n",
    "\n",
    "# compute and show histogram for sentence length\n",
    "plt.hist([len(sentence) for sentence in train_sentences], 20)\n",
    "plt.show()\n",
    "\n",
    "# compute max sentence length\n",
    "print('max length:', max([len(sentence) for sentence in train_sentences]))"
   ]
  },
  {
   "cell_type": "code",
   "execution_count": 40,
   "id": "1eec6dd2",
   "metadata": {
    "ExecuteTime": {
     "end_time": "2023-02-10T06:59:04.983470Z",
     "start_time": "2023-02-10T06:59:04.725977Z"
    }
   },
   "outputs": [],
   "source": [
    "# import relevant classes for pretrained tokenizer and model\n",
    "from transformers import AutoTokenizer, AutoModel"
   ]
  },
  {
   "cell_type": "code",
   "execution_count": 42,
   "id": "d1d6d419",
   "metadata": {
    "ExecuteTime": {
     "end_time": "2023-02-10T07:04:41.237638Z",
     "start_time": "2023-02-10T07:04:22.622363Z"
    }
   },
   "outputs": [
    {
     "data": {
      "application/vnd.jupyter.widget-view+json": {
       "model_id": "c5a9f763fb3e4563aff838654a7e4f80",
       "version_major": 2,
       "version_minor": 0
      },
      "text/plain": [
       "Downloading:   0%|          | 0.00/811k [00:00<?, ?B/s]"
      ]
     },
     "metadata": {},
     "output_type": "display_data"
    },
    {
     "data": {
      "application/vnd.jupyter.widget-view+json": {
       "model_id": "a93d81869ece43ce83c650d4fbc38c5e",
       "version_major": 2,
       "version_minor": 0
      },
      "text/plain": [
       "Downloading:   0%|          | 0.00/508 [00:00<?, ?B/s]"
      ]
     },
     "metadata": {},
     "output_type": "display_data"
    },
    {
     "data": {
      "application/vnd.jupyter.widget-view+json": {
       "model_id": "f2daaf93f2684ebab058b97de763875e",
       "version_major": 2,
       "version_minor": 0
      },
      "text/plain": [
       "Downloading:   0%|          | 0.00/445M [00:00<?, ?B/s]"
      ]
     },
     "metadata": {},
     "output_type": "display_data"
    },
    {
     "name": "stderr",
     "output_type": "stream",
     "text": [
      "Some weights of the model checkpoint at camembert-base were not used when initializing CamembertModel: ['lm_head.decoder.weight', 'lm_head.dense.weight', 'lm_head.bias', 'lm_head.layer_norm.weight', 'lm_head.dense.bias', 'lm_head.layer_norm.bias']\n",
      "- This IS expected if you are initializing CamembertModel from the checkpoint of a model trained on another task or with another architecture (e.g. initializing a BertForSequenceClassification model from a BertForPreTraining model).\n",
      "- This IS NOT expected if you are initializing CamembertModel from the checkpoint of a model that you expect to be exactly identical (initializing a BertForSequenceClassification model from a BertForSequenceClassification model).\n"
     ]
    }
   ],
   "source": [
    "from transformers import CamembertModel, CamembertTokenizer\n",
    "\n",
    "# You can replace \"camembert-base\" with any other model from the table, e.g. \"camembert/camembert-large\".\n",
    "tokenizer = CamembertTokenizer.from_pretrained(\"camembert-base\")\n",
    "camembert = CamembertModel.from_pretrained(\"camembert-base\")"
   ]
  },
  {
   "cell_type": "code",
   "execution_count": 43,
   "id": "a7b150b4",
   "metadata": {
    "ExecuteTime": {
     "end_time": "2023-02-10T07:05:55.057686Z",
     "start_time": "2023-02-10T07:05:55.045095Z"
    },
    "scrolled": true
   },
   "outputs": [
    {
     "data": {
      "text/plain": [
       "['▁cela',\n",
       " '▁signifie',\n",
       " '▁que',\n",
       " '▁leur',\n",
       " '▁consommation',\n",
       " '▁énergétique',\n",
       " ',',\n",
       " '▁qui',\n",
       " '▁représente',\n",
       " '▁actuellement',\n",
       " '▁10%',\n",
       " '▁de',\n",
       " '▁la',\n",
       " '▁consommation',\n",
       " '▁énergétique',\n",
       " '▁moyenne',\n",
       " '▁de',\n",
       " '▁l',\n",
       " \"'\",\n",
       " 'UE',\n",
       " ',',\n",
       " '▁enregistrer',\n",
       " 'a',\n",
       " '▁une',\n",
       " '▁forte',\n",
       " '▁augmentation',\n",
       " '▁à',\n",
       " '▁mesure',\n",
       " '▁qu',\n",
       " \"'\",\n",
       " 'ils',\n",
       " '▁exiger',\n",
       " 'ont',\n",
       " '▁des',\n",
       " '▁commodités',\n",
       " '▁élémentaires',\n",
       " '▁comme',\n",
       " '▁l',\n",
       " \"'\",\n",
       " 'eau',\n",
       " '▁chaude',\n",
       " '▁et',\n",
       " ',',\n",
       " '▁peut',\n",
       " '-',\n",
       " 'être',\n",
       " '▁même',\n",
       " ',',\n",
       " '▁l',\n",
       " \"'\",\n",
       " 'air',\n",
       " '▁conditionné',\n",
       " ',',\n",
       " '▁des',\n",
       " '▁moyens',\n",
       " '▁de',\n",
       " '▁transport',\n",
       " '▁et',\n",
       " '▁la',\n",
       " '▁modernisation',\n",
       " '▁de',\n",
       " '▁leurs',\n",
       " '▁industries',\n",
       " '.']"
      ]
     },
     "execution_count": 43,
     "metadata": {},
     "output_type": "execute_result"
    }
   ],
   "source": [
    "tokenizer.tokenize(\"cela signifie que leur consommation énergétique, qui représente actuellement 10% de la consommation énergétique moyenne de l'UE, enregistrera une forte augmentation à mesure qu'ils exigeront des commodités élémentaires comme l'eau chaude et, peut-être même, l'air conditionné, des moyens de transport et la modernisation de leurs industries.\")\n",
    "\n"
   ]
  },
  {
   "cell_type": "code",
   "execution_count": 50,
   "id": "ee63c68b",
   "metadata": {
    "ExecuteTime": {
     "end_time": "2023-02-10T07:15:40.246111Z",
     "start_time": "2023-02-10T07:15:40.003496Z"
    }
   },
   "outputs": [
    {
     "name": "stdout",
     "output_type": "stream",
     "text": [
      "['▁L', \"'\", '▁équipe', '▁B', '▁', ',', '▁chez', '▁les', '▁seniors', '▁', ',', '▁évoluer', 'a', '▁à', '▁partir', '▁de', '▁15', '▁h', '▁', ',', '▁sur', '▁la', '▁pelouse', '▁du', '▁de', '▁le', '▁terrain', '▁d', \"'\", '▁honneur', '▁', ',', '▁face', '▁à', '▁la', '▁formation', '▁de', '▁La', 'neu', 'ville', '▁', '.']\n",
      "['<pad>', '<pad>', '<pad>', '<pad>', '<pad>', '<pad>', '<pad>', '<pad>', '<pad>', '<pad>', '<pad>', '<pad>', '<pad>', '<pad>', '<pad>', '<pad>', '<pad>', '<pad>', '<pad>', '<pad>', '<pad>', '<pad>', '<pad>', '<pad>', '<pad>', '<pad>', '<pad>', '<pad>', '<pad>', '<pad>', '<pad>', '<pad>', '<pad>', '<pad>', '<pad>', '<pad>', '<pad>', '<pad>', '<pad>', '<pad>', '<pad>', '<pad>']\n"
     ]
    }
   ],
   "source": [
    "import re\n",
    "\n",
    "def align_tokenizations(sentences, taggings):\n",
    "    bert_tokenized_sentences = []\n",
    "    aligned_taggings = []\n",
    "\n",
    "    for sentence, tagging in zip(sentences, taggings):\n",
    "        # first generate BERT-tokenization\n",
    "        bert_tokenized_sentence = tokenizer.tokenize(' '.join(sentence))\n",
    "\n",
    "        aligned_tagging = []\n",
    "        current_word = ''\n",
    "        index = 0 # index of current word in sentence and tagging\n",
    "        for token in bert_tokenized_sentence:\n",
    "            current_word += re.sub(r'^##', '', token) # recompose word with subtoken\n",
    "            sentence[index] = sentence[index].replace('\\xad', '') # fix bug in data\n",
    "\n",
    "            # note that some word factors correspond to unknown words in BERT\n",
    "#             assert token == '[UNK]' or sentence[index].startswith(current_word)\n",
    "\n",
    "            if token == '[UNK]' or sentence[index] == current_word: # if we completed a word\n",
    "                current_word = ''\n",
    "                aligned_tagging.append(tagging[index])\n",
    "                index += 1\n",
    "            else: # otherwise insert padding\n",
    "                aligned_tagging.append('<pad>')\n",
    "\n",
    "        assert len(bert_tokenized_sentence) == len(aligned_tagging)\n",
    "\n",
    "        bert_tokenized_sentences.append(bert_tokenized_sentence)\n",
    "        aligned_taggings.append(aligned_tagging)\n",
    "\n",
    "    return bert_tokenized_sentences, aligned_taggings\n",
    "\n",
    "train_bert_tokenized_sentences, train_aligned_taggings = align_tokenizations(train_sentences, train_taggings)\n",
    "valid_bert_tokenized_sentences, valid_aligned_taggings = align_tokenizations(valid_sentences, valid_taggings)\n",
    "test_bert_tokenized_sentences, test_aligned_taggings = align_tokenizations(test_sentences, test_taggings)\n",
    "\n",
    "print(train_bert_tokenized_sentences[42])\n",
    "print(train_aligned_taggings[42])"
   ]
  },
  {
   "cell_type": "code",
   "execution_count": 53,
   "id": "9a57587c",
   "metadata": {
    "ExecuteTime": {
     "end_time": "2023-02-10T07:28:35.316366Z",
     "start_time": "2023-02-10T07:28:35.145829Z"
    }
   },
   "outputs": [
    {
     "name": "stdout",
     "output_type": "stream",
     "text": [
      "tensor([    3,    71,    11,   815,   261,    21,     7,   222,    19,  8383,\n",
      "           21,     7,  5120,    55,    15,   350,     8,   338,   616,    21,\n",
      "            7,    32,    13, 12585,    25,     8,    16,   992,    18,    11,\n",
      "         8515,    21,     7,   461,    15,    13,   513,     8,    61, 23921,\n",
      "          998,    21,     9,     3])\n",
      "tensor([0, 0, 0, 0, 0, 0, 0, 0, 0, 0, 0, 0, 0, 0, 0, 0, 0, 0, 0, 0, 0, 0, 0, 0,\n",
      "        0, 0, 0, 0, 0, 0, 0, 0, 0, 0, 0, 0, 0, 0, 0, 0, 0, 0, 0, 0])\n",
      "num labels: 1\n"
     ]
    }
   ],
   "source": [
    "import torch\n",
    "# device = torch.device('gpu' if torch.cuda.is_available else 'cpu')\n",
    "device = torch.device('cpu')\n",
    "\n",
    "import collections\n",
    "\n",
    "label_vocab = collections.defaultdict(lambda: len(label_vocab))\n",
    "label_vocab['<pad>'] = 0\n",
    "\n",
    "def convert_to_ids(sentences, taggings):\n",
    "    sentences_ids = []\n",
    "    taggings_ids = []\n",
    "    for sentence, tagging in zip(sentences, taggings):\n",
    "        sentence_tensor = torch.tensor(tokenizer.convert_tokens_to_ids(['[CLS]'] + sentence + ['SEP'])).long()\n",
    "        tagging_tensor = torch.tensor([0] + [label_vocab[tag] for tag in tagging] + [0]).long()\n",
    "\n",
    "        sentences_ids.append(sentence_tensor.to(device))\n",
    "        taggings_ids.append(tagging_tensor.to(device))\n",
    "    return sentences_ids, taggings_ids\n",
    "\n",
    "train_sentences_ids, train_taggings_ids = convert_to_ids(train_bert_tokenized_sentences, train_aligned_taggings)\n",
    "valid_sentences_ids, valid_taggings_ids = convert_to_ids(valid_bert_tokenized_sentences, valid_aligned_taggings)\n",
    "test_sentences_ids, test_taggings_ids = convert_to_ids(test_bert_tokenized_sentences, test_aligned_taggings)\n",
    "\n",
    "print(train_sentences_ids[42])\n",
    "print(train_taggings_ids[42])\n",
    "print('num labels:', len(label_vocab))"
   ]
  },
  {
   "cell_type": "code",
   "execution_count": 54,
   "id": "18404ad7",
   "metadata": {
    "ExecuteTime": {
     "end_time": "2023-02-10T07:29:10.991794Z",
     "start_time": "2023-02-10T07:29:10.983887Z"
    }
   },
   "outputs": [],
   "source": [
    "from torch.utils.data import Dataset\n",
    "\n",
    "class PosTaggingDataset(Dataset):\n",
    "    def __init__(self, sentences, taggings):\n",
    "        assert len(sentences) == len(taggings)\n",
    "        self.sentences = sentences\n",
    "        self.taggings = taggings\n",
    "\n",
    "    def __getitem__(self, i):\n",
    "        return self.sentences[i], self.taggings[i]\n",
    "\n",
    "    def __len__(self):\n",
    "        return len(self.sentences)"
   ]
  },
  {
   "cell_type": "code",
   "execution_count": 55,
   "id": "e5a96f47",
   "metadata": {
    "ExecuteTime": {
     "end_time": "2023-02-10T07:29:51.838415Z",
     "start_time": "2023-02-10T07:29:51.827057Z"
    }
   },
   "outputs": [
    {
     "name": "stdout",
     "output_type": "stream",
     "text": [
      "torch.Size([2, 3]) torch.Size([2, 3])\n"
     ]
    }
   ],
   "source": [
    "def collate_fn(items):\n",
    "    max_len = max(len(item[0]) for item in items)\n",
    "\n",
    "    sentences = torch.zeros((len(items), max_len), device=items[0][0].device).long().to(device)\n",
    "    taggings = torch.zeros((len(items), max_len)).long().to(device)\n",
    "\n",
    "    for i, (sentence, tagging) in enumerate(items):\n",
    "        sentences[i][0:len(sentence)] = sentence\n",
    "        taggings[i][0:len(tagging)] = tagging\n",
    "\n",
    "    return sentences, taggings\n",
    "\n",
    "\n",
    "x, y = collate_fn([[torch.tensor([1, 2, 3]), torch.tensor([4, 5, 6])], [torch.tensor([1, 2]), torch.tensor([3, 4])]])\n",
    "print(x.shape, y.shape)"
   ]
  },
  {
   "cell_type": "code",
   "execution_count": 56,
   "id": "7c7290e7",
   "metadata": {
    "ExecuteTime": {
     "end_time": "2023-02-10T07:30:04.530430Z",
     "start_time": "2023-02-10T07:30:04.524607Z"
    }
   },
   "outputs": [],
   "source": [
    "from torch.utils.data import DataLoader\n",
    "\n",
    "batch_size = 64\n",
    "\n",
    "train_loader = DataLoader(PosTaggingDataset(train_sentences_ids, train_taggings_ids), batch_size=batch_size, collate_fn=collate_fn, shuffle=True)\n",
    "valid_loader = DataLoader(PosTaggingDataset(valid_sentences_ids, valid_taggings_ids), batch_size=batch_size, collate_fn=collate_fn)\n",
    "test_loader = DataLoader(PosTaggingDataset(test_sentences_ids, test_taggings_ids), batch_size=batch_size, collate_fn=collate_fn)"
   ]
  },
  {
   "cell_type": "code",
   "execution_count": 57,
   "id": "25e2f781",
   "metadata": {
    "ExecuteTime": {
     "end_time": "2023-02-10T07:30:46.103504Z",
     "start_time": "2023-02-10T07:30:46.004959Z"
    }
   },
   "outputs": [
    {
     "name": "stdout",
     "output_type": "stream",
     "text": [
      "torch.Size([2, 3, 1])\n"
     ]
    }
   ],
   "source": [
    "import torch.nn as nn\n",
    "import torch.nn.functional as F\n",
    "\n",
    "class RNNClassifier(nn.Module):\n",
    "    def __init__(self, num_labels, embed_size=128, hidden_size=128):\n",
    "        super().__init__()\n",
    "        self.embedding = nn.Embedding(tokenizer.vocab_size, embed_size, padding_idx=tokenizer.pad_token_id)\n",
    "        self.rnn = nn.GRU(embed_size, hidden_size, num_layers=1, bidirectional=True, batch_first=True)\n",
    "        self.decision = nn.Linear(1 * 2 * hidden_size, num_labels) # size output by GRU is number of layers * number of directions * hidden size\n",
    "        self.to(device)\n",
    "  \n",
    "    def forward(self, sentences):\n",
    "        embed_rep = self.embedding(sentences)\n",
    "        word_rep, sentence_rep = self.rnn(embed_rep)\n",
    "        return self.decision(F.dropout(F.gelu(word_rep), 0.3))\n",
    "\n",
    "# check that model works on an arbitrary batch that contains two sentences of length 3\n",
    "rnn_model = RNNClassifier(len(label_vocab))\n",
    "with torch.no_grad():\n",
    "    y = rnn_model(torch.tensor([[0, 1, 2], [3, 4, 5]]).to(device))\n",
    "\n",
    "# the expected shape is (batch size, max sentence length, number of labels)\n",
    "print(y.shape)"
   ]
  },
  {
   "cell_type": "code",
   "execution_count": 65,
   "id": "e0d2181b",
   "metadata": {
    "ExecuteTime": {
     "end_time": "2023-02-10T07:35:06.596886Z",
     "start_time": "2023-02-10T07:35:06.588572Z"
    }
   },
   "outputs": [],
   "source": [
    "def perf(model, loader):\n",
    "    criterion = nn.CrossEntropyLoss()\n",
    "    model.eval() # do not apply training-specific steps such as dropout\n",
    "    total_loss = correct = num_loss = num_perf = 0\n",
    "    for x, y in loader:\n",
    "        with torch.no_grad(): # no need to store computation graph for gradients\n",
    "          # perform inference and compute loss\n",
    "            y_scores = model(x)\n",
    "            loss = criterion(y_scores.view(-1, len(label_vocab)), y.view(-1)) # requires tensors of shape (num-instances, num-labels) and (num-instances)\n",
    "\n",
    "            # gather loss statistics\n",
    "            total_loss += loss.item()\n",
    "            num_loss += 1\n",
    "\n",
    "            # gather accuracy statistics\n",
    "            y_pred = torch.max(y_scores, 2)[1] # compute highest-scoring tag\n",
    "            mask = (y != 0) # ignore <pad> tags\n",
    "            correct += torch.sum((y_pred == y) * mask) # compute number of correct predictions\n",
    "            num_perf += torch.sum(mask).item()\n",
    "            print(num_perf)\n",
    "    return total_loss / num_loss, correct.item() / num_perf\n",
    "\n",
    "# without training, accuracy should be a bit less than 2% (chance of getting a label correct)\n",
    "# perf(rnn_model, valid_loader)"
   ]
  },
  {
   "cell_type": "code",
   "execution_count": 66,
   "id": "b611ac5a",
   "metadata": {
    "ExecuteTime": {
     "end_time": "2023-02-10T07:35:52.987177Z",
     "start_time": "2023-02-10T07:35:52.976956Z"
    }
   },
   "outputs": [],
   "source": [
    "import torch.optim as optim\n",
    "\n",
    "def fit(model, epochs):\n",
    "    criterion = nn.CrossEntropyLoss()\n",
    "    optimizer = optim.Adam(model.parameters(), lr=1e-2)\n",
    "    for epoch in range(epochs):\n",
    "        model.train()\n",
    "        total_loss = num = 0\n",
    "        for x, y in train_loader:\n",
    "            optimizer.zero_grad() # start accumulating gradients\n",
    "            y_scores = model(x)\n",
    "            loss = criterion(y_scores.view(-1, len(label_vocab)), y.view(-1))\n",
    "            loss.backward() # compute gradients though computation graph\n",
    "            optimizer.step() # modify model parameters\n",
    "            total_loss += loss.item()\n",
    "            num += 1\n",
    "    print(1 + epoch, total_loss / num, *perf(model, valid_loader))"
   ]
  },
  {
   "cell_type": "code",
   "execution_count": 67,
   "id": "baef1b90",
   "metadata": {
    "ExecuteTime": {
     "end_time": "2023-02-10T07:36:40.961615Z",
     "start_time": "2023-02-10T07:36:22.223787Z"
    }
   },
   "outputs": [
    {
     "name": "stdout",
     "output_type": "stream",
     "text": [
      "0\n",
      "0\n",
      "0\n",
      "0\n",
      "0\n",
      "0\n",
      "0\n"
     ]
    },
    {
     "ename": "ZeroDivisionError",
     "evalue": "division by zero",
     "output_type": "error",
     "traceback": [
      "\u001b[0;31m---------------------------------------------------------------------------\u001b[0m",
      "\u001b[0;31mZeroDivisionError\u001b[0m                         Traceback (most recent call last)",
      "Input \u001b[0;32mIn [67]\u001b[0m, in \u001b[0;36m<cell line: 2>\u001b[0;34m()\u001b[0m\n\u001b[1;32m      1\u001b[0m rnn_model \u001b[38;5;241m=\u001b[39m RNNClassifier(\u001b[38;5;28mlen\u001b[39m(label_vocab))\n\u001b[0;32m----> 2\u001b[0m \u001b[43mfit\u001b[49m\u001b[43m(\u001b[49m\u001b[43mrnn_model\u001b[49m\u001b[43m,\u001b[49m\u001b[43m \u001b[49m\u001b[38;5;241;43m5\u001b[39;49m\u001b[43m)\u001b[49m\n",
      "Input \u001b[0;32mIn [66]\u001b[0m, in \u001b[0;36mfit\u001b[0;34m(model, epochs)\u001b[0m\n\u001b[1;32m     15\u001b[0m         total_loss \u001b[38;5;241m+\u001b[39m\u001b[38;5;241m=\u001b[39m loss\u001b[38;5;241m.\u001b[39mitem()\n\u001b[1;32m     16\u001b[0m         num \u001b[38;5;241m+\u001b[39m\u001b[38;5;241m=\u001b[39m \u001b[38;5;241m1\u001b[39m\n\u001b[0;32m---> 17\u001b[0m \u001b[38;5;28mprint\u001b[39m(\u001b[38;5;241m1\u001b[39m \u001b[38;5;241m+\u001b[39m epoch, total_loss \u001b[38;5;241m/\u001b[39m num, \u001b[38;5;241m*\u001b[39m\u001b[43mperf\u001b[49m\u001b[43m(\u001b[49m\u001b[43mmodel\u001b[49m\u001b[43m,\u001b[49m\u001b[43m \u001b[49m\u001b[43mvalid_loader\u001b[49m\u001b[43m)\u001b[49m)\n",
      "Input \u001b[0;32mIn [65]\u001b[0m, in \u001b[0;36mperf\u001b[0;34m(model, loader)\u001b[0m\n\u001b[1;32m     19\u001b[0m         num_perf \u001b[38;5;241m+\u001b[39m\u001b[38;5;241m=\u001b[39m torch\u001b[38;5;241m.\u001b[39msum(mask)\u001b[38;5;241m.\u001b[39mitem()\n\u001b[1;32m     20\u001b[0m         \u001b[38;5;28mprint\u001b[39m(num_perf)\n\u001b[0;32m---> 21\u001b[0m \u001b[38;5;28;01mreturn\u001b[39;00m total_loss \u001b[38;5;241m/\u001b[39m num_loss, \u001b[43mcorrect\u001b[49m\u001b[38;5;241;43m.\u001b[39;49m\u001b[43mitem\u001b[49m\u001b[43m(\u001b[49m\u001b[43m)\u001b[49m\u001b[43m \u001b[49m\u001b[38;5;241;43m/\u001b[39;49m\u001b[43m \u001b[49m\u001b[43mnum_perf\u001b[49m\n",
      "\u001b[0;31mZeroDivisionError\u001b[0m: division by zero"
     ]
    }
   ],
   "source": [
    "rnn_model = RNNClassifier(len(label_vocab))\n",
    "fit(rnn_model, 5)"
   ]
  },
  {
   "cell_type": "code",
   "execution_count": 68,
   "id": "2b7d03e4",
   "metadata": {
    "ExecuteTime": {
     "end_time": "2023-02-10T07:53:12.040615Z",
     "start_time": "2023-02-10T07:53:11.709744Z"
    }
   },
   "outputs": [
    {
     "name": "stdout",
     "output_type": "stream",
     "text": [
      "torch.Size([2, 3, 1])\n"
     ]
    }
   ],
   "source": [
    "class LinearProbeRandom(nn.Module):\n",
    "    def __init__(self, num_labels):\n",
    "        super().__init__()\n",
    "        self.embedding = nn.Embedding(tokenizer.vocab_size, 768)\n",
    "        self.probe = nn.Linear(768, num_labels)\n",
    "        self.to(device)\n",
    "\n",
    "    def parameters(self):\n",
    "        return self.probe.parameters()\n",
    "  \n",
    "    def forward(self, sentences):\n",
    "        with torch.no_grad(): # embeddings are not trained\n",
    "            word_rep = self.embedding(sentences)\n",
    "        return self.probe(word_rep)\n",
    "\n",
    "# the model should return a tensor of shape (batch size, sequence length, number of labels)\n",
    "random_model = LinearProbeRandom(len(label_vocab))\n",
    "with torch.no_grad():\n",
    "    y = random_model(torch.tensor([[0, 1, 2], [3, 4, 5]]).to(device))\n",
    "print(y.shape)"
   ]
  },
  {
   "cell_type": "code",
   "execution_count": 69,
   "id": "fb304808",
   "metadata": {
    "ExecuteTime": {
     "end_time": "2023-02-10T07:53:25.395962Z",
     "start_time": "2023-02-10T07:53:24.389530Z"
    }
   },
   "outputs": [
    {
     "name": "stdout",
     "output_type": "stream",
     "text": [
      "0\n",
      "0\n",
      "0\n",
      "0\n",
      "0\n",
      "0\n",
      "0\n"
     ]
    },
    {
     "ename": "ZeroDivisionError",
     "evalue": "division by zero",
     "output_type": "error",
     "traceback": [
      "\u001b[0;31m---------------------------------------------------------------------------\u001b[0m",
      "\u001b[0;31mZeroDivisionError\u001b[0m                         Traceback (most recent call last)",
      "Input \u001b[0;32mIn [69]\u001b[0m, in \u001b[0;36m<cell line: 2>\u001b[0;34m()\u001b[0m\n\u001b[1;32m      1\u001b[0m random_model \u001b[38;5;241m=\u001b[39m LinearProbeRandom(\u001b[38;5;28mlen\u001b[39m(label_vocab))\n\u001b[0;32m----> 2\u001b[0m \u001b[43mfit\u001b[49m\u001b[43m(\u001b[49m\u001b[43mrandom_model\u001b[49m\u001b[43m,\u001b[49m\u001b[43m \u001b[49m\u001b[38;5;241;43m5\u001b[39;49m\u001b[43m)\u001b[49m\n",
      "Input \u001b[0;32mIn [66]\u001b[0m, in \u001b[0;36mfit\u001b[0;34m(model, epochs)\u001b[0m\n\u001b[1;32m     15\u001b[0m         total_loss \u001b[38;5;241m+\u001b[39m\u001b[38;5;241m=\u001b[39m loss\u001b[38;5;241m.\u001b[39mitem()\n\u001b[1;32m     16\u001b[0m         num \u001b[38;5;241m+\u001b[39m\u001b[38;5;241m=\u001b[39m \u001b[38;5;241m1\u001b[39m\n\u001b[0;32m---> 17\u001b[0m \u001b[38;5;28mprint\u001b[39m(\u001b[38;5;241m1\u001b[39m \u001b[38;5;241m+\u001b[39m epoch, total_loss \u001b[38;5;241m/\u001b[39m num, \u001b[38;5;241m*\u001b[39m\u001b[43mperf\u001b[49m\u001b[43m(\u001b[49m\u001b[43mmodel\u001b[49m\u001b[43m,\u001b[49m\u001b[43m \u001b[49m\u001b[43mvalid_loader\u001b[49m\u001b[43m)\u001b[49m)\n",
      "Input \u001b[0;32mIn [65]\u001b[0m, in \u001b[0;36mperf\u001b[0;34m(model, loader)\u001b[0m\n\u001b[1;32m     19\u001b[0m         num_perf \u001b[38;5;241m+\u001b[39m\u001b[38;5;241m=\u001b[39m torch\u001b[38;5;241m.\u001b[39msum(mask)\u001b[38;5;241m.\u001b[39mitem()\n\u001b[1;32m     20\u001b[0m         \u001b[38;5;28mprint\u001b[39m(num_perf)\n\u001b[0;32m---> 21\u001b[0m \u001b[38;5;28;01mreturn\u001b[39;00m total_loss \u001b[38;5;241m/\u001b[39m num_loss, \u001b[43mcorrect\u001b[49m\u001b[38;5;241;43m.\u001b[39;49m\u001b[43mitem\u001b[49m\u001b[43m(\u001b[49m\u001b[43m)\u001b[49m\u001b[43m \u001b[49m\u001b[38;5;241;43m/\u001b[39;49m\u001b[43m \u001b[49m\u001b[43mnum_perf\u001b[49m\n",
      "\u001b[0;31mZeroDivisionError\u001b[0m: division by zero"
     ]
    }
   ],
   "source": [
    "random_model = LinearProbeRandom(len(label_vocab))\n",
    "fit(random_model, 5)"
   ]
  },
  {
   "cell_type": "code",
   "execution_count": 72,
   "id": "164f417a",
   "metadata": {
    "ExecuteTime": {
     "end_time": "2023-02-10T07:56:45.821147Z",
     "start_time": "2023-02-10T07:56:44.659766Z"
    }
   },
   "outputs": [
    {
     "name": "stderr",
     "output_type": "stream",
     "text": [
      "Some weights of the model checkpoint at camembert-base were not used when initializing CamembertModel: ['lm_head.decoder.weight', 'lm_head.dense.weight', 'lm_head.bias', 'lm_head.layer_norm.weight', 'lm_head.dense.bias', 'lm_head.layer_norm.bias']\n",
      "- This IS expected if you are initializing CamembertModel from the checkpoint of a model trained on another task or with another architecture (e.g. initializing a BertForSequenceClassification model from a BertForPreTraining model).\n",
      "- This IS NOT expected if you are initializing CamembertModel from the checkpoint of a model that you expect to be exactly identical (initializing a BertForSequenceClassification model from a BertForSequenceClassification model).\n"
     ]
    },
    {
     "name": "stdout",
     "output_type": "stream",
     "text": [
      "torch.Size([2, 3, 1])\n"
     ]
    }
   ],
   "source": [
    "class LinearProbeBert(nn.Module):\n",
    "    def __init__(self, num_labels):\n",
    "        super().__init__()\n",
    "        self.camembert = CamembertModel.from_pretrained(\"camembert-base\")\n",
    "        self.probe = nn.Linear(self.camembert.config.hidden_size, num_labels)\n",
    "        self.to(device)\n",
    "\n",
    "    def parameters(self):\n",
    "        return self.probe.parameters()\n",
    "  \n",
    "    def forward(self, sentences):\n",
    "        with torch.no_grad(): # no training of BERT parameters\n",
    "            word_rep, sentence_rep = self.camembert(sentences, return_dict=False)\n",
    "        return self.probe(word_rep)\n",
    "\n",
    "# the model should return a tensor of shape (batch size, sequence length, number of labels)\n",
    "bert_model = LinearProbeBert(len(label_vocab))\n",
    "y = bert_model(torch.tensor([[0, 1, 2], [3, 4, 5]]).to(device))\n",
    "print(y.shape)"
   ]
  },
  {
   "cell_type": "code",
   "execution_count": 73,
   "id": "c9872e15",
   "metadata": {
    "ExecuteTime": {
     "end_time": "2023-02-10T08:08:40.709881Z",
     "start_time": "2023-02-10T07:56:57.898212Z"
    }
   },
   "outputs": [
    {
     "name": "stderr",
     "output_type": "stream",
     "text": [
      "Some weights of the model checkpoint at camembert-base were not used when initializing CamembertModel: ['lm_head.decoder.weight', 'lm_head.dense.weight', 'lm_head.bias', 'lm_head.layer_norm.weight', 'lm_head.dense.bias', 'lm_head.layer_norm.bias']\n",
      "- This IS expected if you are initializing CamembertModel from the checkpoint of a model trained on another task or with another architecture (e.g. initializing a BertForSequenceClassification model from a BertForPreTraining model).\n",
      "- This IS NOT expected if you are initializing CamembertModel from the checkpoint of a model that you expect to be exactly identical (initializing a BertForSequenceClassification model from a BertForSequenceClassification model).\n"
     ]
    },
    {
     "name": "stdout",
     "output_type": "stream",
     "text": [
      "0\n",
      "0\n",
      "0\n",
      "0\n",
      "0\n",
      "0\n",
      "0\n"
     ]
    },
    {
     "ename": "ZeroDivisionError",
     "evalue": "division by zero",
     "output_type": "error",
     "traceback": [
      "\u001b[0;31m---------------------------------------------------------------------------\u001b[0m",
      "\u001b[0;31mZeroDivisionError\u001b[0m                         Traceback (most recent call last)",
      "Input \u001b[0;32mIn [73]\u001b[0m, in \u001b[0;36m<cell line: 2>\u001b[0;34m()\u001b[0m\n\u001b[1;32m      1\u001b[0m bert_model \u001b[38;5;241m=\u001b[39m LinearProbeBert(\u001b[38;5;28mlen\u001b[39m(label_vocab))\n\u001b[0;32m----> 2\u001b[0m \u001b[43mfit\u001b[49m\u001b[43m(\u001b[49m\u001b[43mbert_model\u001b[49m\u001b[43m,\u001b[49m\u001b[43m \u001b[49m\u001b[38;5;241;43m5\u001b[39;49m\u001b[43m)\u001b[49m\n",
      "Input \u001b[0;32mIn [66]\u001b[0m, in \u001b[0;36mfit\u001b[0;34m(model, epochs)\u001b[0m\n\u001b[1;32m     15\u001b[0m         total_loss \u001b[38;5;241m+\u001b[39m\u001b[38;5;241m=\u001b[39m loss\u001b[38;5;241m.\u001b[39mitem()\n\u001b[1;32m     16\u001b[0m         num \u001b[38;5;241m+\u001b[39m\u001b[38;5;241m=\u001b[39m \u001b[38;5;241m1\u001b[39m\n\u001b[0;32m---> 17\u001b[0m \u001b[38;5;28mprint\u001b[39m(\u001b[38;5;241m1\u001b[39m \u001b[38;5;241m+\u001b[39m epoch, total_loss \u001b[38;5;241m/\u001b[39m num, \u001b[38;5;241m*\u001b[39m\u001b[43mperf\u001b[49m\u001b[43m(\u001b[49m\u001b[43mmodel\u001b[49m\u001b[43m,\u001b[49m\u001b[43m \u001b[49m\u001b[43mvalid_loader\u001b[49m\u001b[43m)\u001b[49m)\n",
      "Input \u001b[0;32mIn [65]\u001b[0m, in \u001b[0;36mperf\u001b[0;34m(model, loader)\u001b[0m\n\u001b[1;32m     19\u001b[0m         num_perf \u001b[38;5;241m+\u001b[39m\u001b[38;5;241m=\u001b[39m torch\u001b[38;5;241m.\u001b[39msum(mask)\u001b[38;5;241m.\u001b[39mitem()\n\u001b[1;32m     20\u001b[0m         \u001b[38;5;28mprint\u001b[39m(num_perf)\n\u001b[0;32m---> 21\u001b[0m \u001b[38;5;28;01mreturn\u001b[39;00m total_loss \u001b[38;5;241m/\u001b[39m num_loss, \u001b[43mcorrect\u001b[49m\u001b[38;5;241;43m.\u001b[39;49m\u001b[43mitem\u001b[49m\u001b[43m(\u001b[49m\u001b[43m)\u001b[49m\u001b[43m \u001b[49m\u001b[38;5;241;43m/\u001b[39;49m\u001b[43m \u001b[49m\u001b[43mnum_perf\u001b[49m\n",
      "\u001b[0;31mZeroDivisionError\u001b[0m: division by zero"
     ]
    }
   ],
   "source": [
    "bert_model = LinearProbeBert(len(label_vocab))\n",
    "fit(bert_model, 5)"
   ]
  },
  {
   "cell_type": "code",
   "execution_count": null,
   "id": "db25f06b",
   "metadata": {},
   "outputs": [],
   "source": [
    "print('RNN representation (supervised)', *perf(rnn_model, test_loader))\n",
    "print('RANDOM representation (unsupervised)', *perf(random_model, test_loader))\n",
    "print('BERT representation (unsupervised)', *perf(bert_model, test_loader))"
   ]
  }
 ],
 "metadata": {
  "kernelspec": {
   "display_name": "LR",
   "language": "python",
   "name": "lr"
  },
  "language_info": {
   "codemirror_mode": {
    "name": "ipython",
    "version": 3
   },
   "file_extension": ".py",
   "mimetype": "text/x-python",
   "name": "python",
   "nbconvert_exporter": "python",
   "pygments_lexer": "ipython3",
   "version": "3.10.2"
  },
  "toc": {
   "base_numbering": 1,
   "nav_menu": {},
   "number_sections": true,
   "sideBar": true,
   "skip_h1_title": false,
   "title_cell": "Table of Contents",
   "title_sidebar": "Contents",
   "toc_cell": false,
   "toc_position": {},
   "toc_section_display": true,
   "toc_window_display": false
  }
 },
 "nbformat": 4,
 "nbformat_minor": 5
}
