{
 "cells": [
  {
   "cell_type": "code",
   "execution_count": 46,
   "id": "ebd95ae7",
   "metadata": {
    "ExecuteTime": {
     "end_time": "2023-02-09T13:11:33.657922Z",
     "start_time": "2023-02-09T13:11:33.644901Z"
    }
   },
   "outputs": [],
   "source": [
    "import conllu"
   ]
  },
  {
   "cell_type": "code",
   "execution_count": 47,
   "id": "1e310efc",
   "metadata": {
    "ExecuteTime": {
     "end_time": "2023-02-09T13:18:19.250200Z",
     "start_time": "2023-02-09T13:18:18.706725Z"
    }
   },
   "outputs": [],
   "source": [
    "with open('datasets/fr_sequoia-ud-train.conllu') as fp:\n",
    "    data = conllu.parse(fp.read())"
   ]
  },
  {
   "cell_type": "code",
   "execution_count": 48,
   "id": "69459e82",
   "metadata": {
    "ExecuteTime": {
     "end_time": "2023-02-09T13:20:54.381837Z",
     "start_time": "2023-02-09T13:20:54.374437Z"
    }
   },
   "outputs": [
    {
     "data": {
      "text/plain": [
       "TokenTree<token={id=8, form=entré}, children=[...]>"
      ]
     },
     "execution_count": 48,
     "metadata": {},
     "output_type": "execute_result"
    }
   ],
   "source": [
    "data[100].to_tree()"
   ]
  },
  {
   "cell_type": "code",
   "execution_count": 49,
   "id": "fd042145",
   "metadata": {
    "ExecuteTime": {
     "end_time": "2023-02-10T07:15:00.642891Z",
     "start_time": "2023-02-10T07:14:59.908664Z"
    }
   },
   "outputs": [
    {
     "name": "stdout",
     "output_type": "stream",
     "text": [
      "['\"', 'Tout', 'simplement', '\"', ',', 'a', 'précisé', 'Roger', 'Thiriot', ',', '\"', 'parce', 'que', \"l'\", 'histoire', 'du', 'de', 'le', 'travail', 'industriel', 'est', ',', 'ici', ',', 'une', 'longue', 'et', 'vieille', 'histoire', '.']\n",
      "['PUNCT', 'ADV', 'ADV', 'PUNCT', 'PUNCT', 'AUX', 'VERB', 'PROPN', 'PROPN', 'PUNCT', 'PUNCT', 'SCONJ', 'SCONJ', 'DET', 'NOUN', '_', 'ADP', 'DET', 'NOUN', 'ADJ', 'AUX', 'PUNCT', 'ADV', 'PUNCT', 'DET', 'ADJ', 'CCONJ', 'ADJ', 'NOUN', 'PUNCT']\n"
     ]
    }
   ],
   "source": [
    "def load_conllu(filename):\n",
    "    with open(filename) as fp:\n",
    "        data = conllu.parse(fp.read())\n",
    "        sentences = [[token['form'] for token in sentence] for sentence in data]\n",
    "        taggings = [[token['upos'] for token in sentence] for sentence in data]\n",
    "    return sentences, taggings\n",
    "\n",
    "train_sentences, train_taggings = load_conllu('./datasets/fr_sequoia-ud-train.conllu')\n",
    "valid_sentences, valid_taggings = load_conllu('./datasets/fr_sequoia-ud-dev.conllu')\n",
    "test_sentences, test_taggings = load_conllu('./datasets/fr_sequoia-ud-test.conllu')\n",
    "\n",
    "print(train_sentences[10])\n",
    "print(train_taggings[10])"
   ]
  },
  {
   "cell_type": "code",
   "execution_count": 50,
   "id": "59147f71",
   "metadata": {
    "ExecuteTime": {
     "end_time": "2023-02-09T13:33:07.705827Z",
     "start_time": "2023-02-09T13:33:07.701705Z"
    }
   },
   "outputs": [
    {
     "data": {
      "text/plain": [
       "2231"
      ]
     },
     "execution_count": 50,
     "metadata": {},
     "output_type": "execute_result"
    }
   ],
   "source": [
    "len(train_sentences)"
   ]
  },
  {
   "cell_type": "code",
   "execution_count": 51,
   "id": "174c6125",
   "metadata": {
    "ExecuteTime": {
     "end_time": "2023-02-10T06:58:07.898135Z",
     "start_time": "2023-02-10T06:58:07.818594Z"
    }
   },
   "outputs": [
    {
     "name": "stdout",
     "output_type": "stream",
     "text": [
      "number of different tags: 17\n",
      "10870 NOUN\n",
      "8043 ADP\n",
      "7430 DET\n",
      "5702 PUNCT\n",
      "4248 VERB\n",
      "3125 ADJ\n",
      "2410 PROPN\n",
      "2083 PRON\n",
      "1889 ADV\n",
      "1623 AUX\n",
      "1360 _\n",
      "1203 CCONJ\n",
      "1183 NUM\n",
      "550 SCONJ\n",
      "128 X\n",
      "15 SYM\n",
      "3 INTJ\n"
     ]
    }
   ],
   "source": [
    "# use a defaultdict to count the number of occurrences of each tag\n",
    "import collections\n",
    "tagset = collections.defaultdict(int)\n",
    "\n",
    "for tagging in train_taggings:\n",
    "    for tag in tagging:\n",
    "        tagset[tag] += 1\n",
    "\n",
    "print('number of different tags:', len(tagset))\n",
    "\n",
    "# print count and tag sorted by decreasing count\n",
    "for tag, count in sorted(tagset.items(), reverse=True, key=lambda x: x[1]):\n",
    "    print(count, tag)"
   ]
  },
  {
   "cell_type": "code",
   "execution_count": 52,
   "id": "7cc9c6fa",
   "metadata": {
    "ExecuteTime": {
     "end_time": "2023-02-10T06:58:23.231475Z",
     "start_time": "2023-02-10T06:58:22.551570Z"
    }
   },
   "outputs": [
    {
     "data": {
      "image/png": "[encoded data removed]",
      "text/plain": [
       "<Figure size 640x480 with 1 Axes>"
      ]
     },
     "metadata": {},
     "output_type": "display_data"
    },
    {
     "name": "stdout",
     "output_type": "stream",
     "text": [
      "max length: 125\n"
     ]
    }
   ],
   "source": [
    "from matplotlib import pyplot as plt\n",
    "\n",
    "# compute and show histogram for sentence length\n",
    "plt.hist([len(sentence) for sentence in train_sentences], 20)\n",
    "plt.show()\n",
    "\n",
    "# compute max sentence length\n",
    "print('max length:', max([len(sentence) for sentence in train_sentences]))"
   ]
  },
  {
   "cell_type": "code",
   "execution_count": 53,
   "id": "8f7c301c",
   "metadata": {},
   "outputs": [
    {
     "name": "stderr",
     "output_type": "stream",
     "text": [
      "Some weights of the model checkpoint at camembert-base were not used when initializing CamembertModel: ['lm_head.decoder.weight', 'lm_head.layer_norm.bias', 'lm_head.dense.weight', 'lm_head.layer_norm.weight', 'lm_head.dense.bias', 'lm_head.bias']\n",
      "- This IS expected if you are initializing CamembertModel from the checkpoint of a model trained on another task or with another architecture (e.g. initializing a BertForSequenceClassification model from a BertForPreTraining model).\n",
      "- This IS NOT expected if you are initializing CamembertModel from the checkpoint of a model that you expect to be exactly identical (initializing a BertForSequenceClassification model from a BertForSequenceClassification model).\n"
     ]
    }
   ],
   "source": [
    "from mangoes.modeling import PretrainedTransformerModelForFeatureExtraction\n",
    "Camembert_model = PretrainedTransformerModelForFeatureExtraction.load(\"camembert-base\", \"camembert-base\", device=None)"
   ]
  },
  {
   "cell_type": "code",
   "execution_count": 54,
   "id": "20bb28cc",
   "metadata": {},
   "outputs": [
    {
     "data": {
      "text/plain": [
       "torch.Size([15, 768])"
      ]
     },
     "execution_count": 54,
     "metadata": {},
     "output_type": "execute_result"
    }
   ],
   "source": [
    "output = Camembert_model.generate_outputs(\" \".join(valid_sentences[1]), pre_tokenized=False, output_hidden_states=True, output_attentions=False, word_embeddings=True)\n",
    "output['hidden_states'][-1][0].shape\n"
   ]
  },
  {
   "cell_type": "code",
   "execution_count": 55,
   "id": "5de09a10",
   "metadata": {},
   "outputs": [],
   "source": [
    "tagsSet = set()\n",
    "for sent in train_taggings:\n",
    "    for tag in sent:\n",
    "        tagsSet.add(tag)\n",
    "tagsList =  list(tagsSet)\n",
    "tag_to_indx = {k: v for v, k in enumerate(tagsList)}\n",
    "indx_to_tag = {v: k for k, v in tag_to_indx.items()}"
   ]
  },
  {
   "cell_type": "code",
   "execution_count": 57,
   "id": "dd89f343",
   "metadata": {},
   "outputs": [],
   "source": [
    "import pandas as pd\n",
    "\n",
    "def encode(data_y):\n",
    "    encoded_y = []\n",
    "    for sent in data_y:\n",
    "        tag_list = []\n",
    "        for tag in sent.split(' '):\n",
    "            tag_list.append(str(tag_to_indx[tag]))\n",
    "\n",
    "        encoded_y.append(\" \".join(tag_list))\n",
    "    return encoded_y\n",
    "\n",
    "train_x = [\" \".join(x) for x in train_sentences]\n",
    "train_y = [\" \".join(x) for x in train_taggings]\n",
    "train_y = encode(train_y)\n",
    "train_data = pd.DataFrame({\"X\": train_x, \"y\": train_y})\n",
    "\n",
    "valid_x = [\" \".join(x) for x in valid_sentences]\n",
    "valid_y = [\" \".join(x) for x in valid_taggings]\n",
    "valid_y = encode(valid_y)\n",
    "valid_data = pd.DataFrame({\"X\": valid_x, \"y\": valid_y})\n",
    "\n",
    "test_x = [\" \".join(x) for x in test_sentences]\n",
    "test_y = [\" \".join(x) for x in test_taggings]\n",
    "test_y = encode(test_y)\n",
    "test_data = pd.DataFrame({\"X\": test_x, \"y\": test_y})"
   ]
  },
  {
   "cell_type": "code",
   "execution_count": 58,
   "id": "a28334c1",
   "metadata": {},
   "outputs": [],
   "source": [
    "from torch.utils.data import Dataset, DataLoader, random_split, Subset\n",
    "\n",
    "BATCH_SIZE = 8\n",
    "\n",
    "class PandasDataset(Dataset):\n",
    "    def __init__(self, data):\n",
    "        self.data = data\n",
    "\n",
    "    def __len__(self):\n",
    "        return len(self.data)\n",
    "\n",
    "    def __getitem__(self, index):\n",
    "        sentence = self.data.loc[index, \"X\"]\n",
    "        return {\"X\": sentence, \"y\": self.data.loc[index, \"y\"]}\n",
    "    \n",
    "train_dataloader = DataLoader(PandasDataset(train_data), \n",
    "                              shuffle=True, batch_size=BATCH_SIZE\n",
    ")\n",
    "val_dataloader = DataLoader(PandasDataset(valid_data), \n",
    "                            batch_size=BATCH_SIZE)\n",
    "\n",
    "test_dataloader = DataLoader(PandasDataset(test_data), \n",
    "                             batch_size=BATCH_SIZE\n",
    ")"
   ]
  },
  {
   "cell_type": "code",
   "execution_count": 59,
   "id": "742f0a9d",
   "metadata": {},
   "outputs": [
    {
     "data": {
      "text/plain": [
       "torch.Size([8, 62, 768])"
      ]
     },
     "execution_count": 59,
     "metadata": {},
     "output_type": "execute_result"
    }
   ],
   "source": [
    "example_batch = next(iter(train_dataloader))\n",
    "output = Camembert_model.generate_outputs(example_batch[\"X\"], pre_tokenized=False, output_hidden_states=True, output_attentions=False, word_embeddings=True)\n",
    "output['hidden_states'][-1].shape"
   ]
  },
  {
   "cell_type": "code",
   "execution_count": 85,
   "id": "5e8c7b82",
   "metadata": {},
   "outputs": [],
   "source": [
    "import torch\n",
    "import torch.nn as nn\n",
    "import torch.optim as optim\n",
    "import numpy as np\n",
    "from matplotlib import pyplot as plt\n",
    "import torch.nn as nn\n",
    "import torch.nn.functional as F\n"
   ]
  },
  {
   "cell_type": "code",
   "execution_count": 86,
   "id": "3cac85be",
   "metadata": {},
   "outputs": [],
   "source": [
    "class BiLSTMPOSTagger(nn.Module):\n",
    "    def __init__(self, \n",
    "                 embedding_dim, \n",
    "                 hidden_dim, \n",
    "                 output_dim, \n",
    "                 n_layers, \n",
    "                 bidirectional, \n",
    "                 dropout):\n",
    "        \n",
    "        super().__init__()\n",
    "         \n",
    "        self.lstm = nn.LSTM(embedding_dim, \n",
    "                            hidden_dim, \n",
    "                            num_layers = n_layers, \n",
    "                            bidirectional = bidirectional,\n",
    "                            dropout = dropout if n_layers > 1 else 0)\n",
    "        \n",
    "        self.fc = nn.Linear(hidden_dim * 2 if bidirectional else hidden_dim, output_dim)\n",
    "        \n",
    "        self.dropout = nn.Dropout(dropout)\n",
    "        \n",
    "    def forward(self, embedded):\n",
    "        #embedded = [sent len, batch size, emb dim]\n",
    "        \n",
    "        #pass embeddings into LSTM\n",
    "        outputs, (hidden, cell) = self.lstm(embedded)\n",
    "        \n",
    "        #outputs holds the backward and forward hidden states in the final layer\n",
    "        #hidden and cell are the backward and forward hidden and cell states at the final time-step\n",
    "        \n",
    "        #output = [sent len, batch size, hid dim * n directions]\n",
    "        #hidden/cell = [n layers * n directions, batch size, hid dim]\n",
    "        \n",
    "        #we use our outputs to make a prediction of what the tag should be\n",
    "        predictions = self.fc(self.dropout(outputs))\n",
    "        \n",
    "        #predictions = [sent len, batch size, output dim]\n",
    "        \n",
    "        return predictions"
   ]
  },
  {
   "cell_type": "code",
   "execution_count": 149,
   "id": "62c0517e",
   "metadata": {},
   "outputs": [],
   "source": [
    "EMBEDDING_DIM = 768\n",
    "HIDDEN_DIM = 128\n",
    "OUTPUT_DIM = len(tagsList)\n",
    "N_LAYERS = 2\n",
    "BIDIRECTIONAL = True\n",
    "DROPOUT = 0.25\n",
    "TAG_PAD_IDX = tag_to_indx[\"_\"]\n",
    "\n",
    "model = BiLSTMPOSTagger(EMBEDDING_DIM, \n",
    "                        HIDDEN_DIM, \n",
    "                        OUTPUT_DIM, \n",
    "                        N_LAYERS, \n",
    "                        BIDIRECTIONAL, \n",
    "                        DROPOUT)"
   ]
  },
  {
   "cell_type": "code",
   "execution_count": 150,
   "id": "7044e9e5",
   "metadata": {},
   "outputs": [],
   "source": [
    "def init_weights(m):\n",
    "    for name, param in m.named_parameters():\n",
    "        nn.init.normal_(param.data, mean = 0, std = 0.1)\n",
    "        \n",
    "model.apply(init_weights)\n",
    "\n",
    "\n",
    "optimizer = optim.Adam(model.parameters())\n",
    "criterion = nn.CrossEntropyLoss(ignore_index = TAG_PAD_IDX)"
   ]
  },
  {
   "cell_type": "code",
   "execution_count": 151,
   "id": "1a3d39cc",
   "metadata": {},
   "outputs": [
    {
     "name": "stdout",
     "output_type": "stream",
     "text": [
      "The model has 1,319,185 trainable parameters\n"
     ]
    }
   ],
   "source": [
    "def count_parameters(model):\n",
    "    return sum(p.numel() for p in model.parameters() if p.requires_grad)\n",
    "\n",
    "print(f'The model has {count_parameters(model):,} trainable parameters')"
   ]
  },
  {
   "cell_type": "code",
   "execution_count": 152,
   "id": "f3987c43",
   "metadata": {},
   "outputs": [
    {
     "data": {
      "text/plain": [
       "torch.Size([8, 62, 17])"
      ]
     },
     "execution_count": 152,
     "metadata": {},
     "output_type": "execute_result"
    }
   ],
   "source": [
    "result = model(output['hidden_states'][-1])\n",
    "result.shape"
   ]
  },
  {
   "cell_type": "code",
   "execution_count": 153,
   "id": "437aed95",
   "metadata": {},
   "outputs": [],
   "source": [
    "def categorical_accuracy(preds, y, tag_pad_idx):\n",
    "    \"\"\"\n",
    "    Returns accuracy per batch, i.e. if you get 8/10 right, this returns 0.8, NOT 8\n",
    "    \"\"\"\n",
    "    max_preds = preds.argmax(dim = 1, keepdim = True) # get the index of the max probability\n",
    "    non_pad_elements = (y != tag_pad_idx).nonzero()\n",
    "    correct = max_preds[non_pad_elements].squeeze(1).eq(y[non_pad_elements])\n",
    "    return correct.sum() / y[non_pad_elements].shape[0]"
   ]
  },
  {
   "cell_type": "code",
   "execution_count": 175,
   "id": "3053c343",
   "metadata": {},
   "outputs": [],
   "source": [
    "def pad_Tag(batch_y, max_len):\n",
    "    # if(max_len == None):\n",
    "    #     max_len =  max([len(x.split(' ')) for x in batch_y])\n",
    "    padded_batch = []\n",
    "    for sent in batch_y:\n",
    "        sent_list = sent.split(' ')\n",
    "        sent_list = [int(x) for x in sent_list]\n",
    "        while(len(sent_list)< max_len):\n",
    "            sent_list.append(TAG_PAD_IDX)\n",
    "        padded_batch.append(sent_list)\n",
    "    return padded_batch\n",
    "# padded_batch = pad_Tag(example_batch[\"y\"])"
   ]
  },
  {
   "cell_type": "code",
   "execution_count": 176,
   "id": "f830b4ba",
   "metadata": {},
   "outputs": [],
   "source": [
    "def train(model, iterator, optimizer, criterion, tag_pad_idx):\n",
    "    \n",
    "    epoch_loss = 0\n",
    "    epoch_acc = 0\n",
    "    \n",
    "    model.train()\n",
    "    \n",
    "    for batch in iterator:\n",
    "        \n",
    "        text = batch[\"X\"]\n",
    "        output = Camembert_model.generate_outputs(text, pre_tokenized=False, output_hidden_states=True, output_attentions=False, word_embeddings=True)\n",
    "        embedded = output['hidden_states'][-1]\n",
    "        tags = batch[\"y\"]\n",
    "        \n",
    "        optimizer.zero_grad()\n",
    "        \n",
    "        #text = [sent len, batch size] \n",
    "        #embedded = [sent len, batch size, emb dim]\n",
    "        predictions = model(embedded)\n",
    "        max_len = predictions.shape[1]\n",
    "        tags = torch.LongTensor(pad_Tag(tags, max_len))\n",
    "        #predictions = [sent len, batch size, output dim]\n",
    "        #tags = [sent len, batch size]\n",
    "        predictions = predictions.view(-1, predictions.shape[-1])\n",
    "        tags = tags.view(-1)\n",
    "            \n",
    "        #predictions = [sent len * batch size, output dim]\n",
    "        \n",
    "        #tags = [sent len * batch size]\n",
    "        \n",
    "        loss = criterion(predictions, tags)\n",
    "                \n",
    "        acc = categorical_accuracy(predictions, tags, tag_pad_idx)\n",
    "        \n",
    "        loss.backward()\n",
    "        \n",
    "        optimizer.step()\n",
    "        \n",
    "        epoch_loss += loss.item()\n",
    "        epoch_acc += acc.item()\n",
    "        \n",
    "    return epoch_loss / len(iterator), epoch_acc / len(iterator)"
   ]
  },
  {
   "cell_type": "code",
   "execution_count": 180,
   "id": "e000ae31",
   "metadata": {},
   "outputs": [],
   "source": [
    "def evaluate(model, iterator, criterion, tag_pad_idx):\n",
    "    \n",
    "    epoch_loss = 0\n",
    "    epoch_acc = 0\n",
    "    \n",
    "    model.eval()\n",
    "    \n",
    "    with torch.no_grad():\n",
    "    \n",
    "        for batch in iterator:\n",
    "\n",
    "            text = batch[\"X\"]\n",
    "            output = Camembert_model.generate_outputs(text, pre_tokenized=False, output_hidden_states=True, output_attentions=False, word_embeddings=True)\n",
    "            embedded = output['hidden_states'][-1]\n",
    "            tags = batch[\"y\"]\n",
    "            \n",
    "            predictions = model(embedded)\n",
    "            \n",
    "            max_len = predictions.shape[1]\n",
    "            tags = torch.LongTensor(pad_Tag(tags, max_len))\n",
    "            \n",
    "            predictions = predictions.view(-1, predictions.shape[-1])\n",
    "            tags = tags.view(-1)\n",
    "            \n",
    "            loss = criterion(predictions, tags)\n",
    "            \n",
    "            acc = categorical_accuracy(predictions, tags, tag_pad_idx)\n",
    "\n",
    "            epoch_loss += loss.item()\n",
    "            epoch_acc += acc.item()\n",
    "        \n",
    "    return epoch_loss / len(iterator), epoch_acc / len(iterator)"
   ]
  },
  {
   "cell_type": "code",
   "execution_count": 181,
   "metadata": {},
   "outputs": [],
   "source": [
    "def epoch_time(start_time, end_time):\n",
    "    elapsed_time = end_time - start_time\n",
    "    elapsed_mins = int(elapsed_time / 60)\n",
    "    elapsed_secs = int(elapsed_time - (elapsed_mins * 60))\n",
    "    return elapsed_mins, elapsed_secs"
   ]
  },
  {
   "cell_type": "code",
   "execution_count": 182,
   "id": "57d33cd5",
   "metadata": {},
   "outputs": [
    {
     "name": "stdout",
     "output_type": "stream",
     "text": [
      "Epoch: 01 | Epoch Time: 0m 51s\n",
      "\tTrain Loss: 1.117 | Train Acc: 60.17%\n",
      "\t Val. Loss: 1.229 |  Val. Acc: 56.96%\n",
      "Epoch: 02 | Epoch Time: 0m 48s\n",
      "\tTrain Loss: 1.090 | Train Acc: 60.76%\n",
      "\t Val. Loss: 1.212 |  Val. Acc: 57.44%\n",
      "Epoch: 03 | Epoch Time: 0m 48s\n",
      "\tTrain Loss: 1.056 | Train Acc: 61.99%\n",
      "\t Val. Loss: 1.202 |  Val. Acc: 57.09%\n",
      "Epoch: 04 | Epoch Time: 0m 49s\n",
      "\tTrain Loss: 1.024 | Train Acc: 63.04%\n",
      "\t Val. Loss: 1.216 |  Val. Acc: 57.39%\n",
      "Epoch: 05 | Epoch Time: 0m 49s\n",
      "\tTrain Loss: 0.998 | Train Acc: 63.99%\n",
      "\t Val. Loss: 1.229 |  Val. Acc: 58.12%\n",
      "Epoch: 06 | Epoch Time: 0m 48s\n",
      "\tTrain Loss: 0.968 | Train Acc: 64.92%\n",
      "\t Val. Loss: 1.209 |  Val. Acc: 57.35%\n",
      "Epoch: 07 | Epoch Time: 0m 48s\n",
      "\tTrain Loss: 0.940 | Train Acc: 65.83%\n",
      "\t Val. Loss: 1.200 |  Val. Acc: 57.10%\n",
      "Epoch: 08 | Epoch Time: 0m 50s\n",
      "\tTrain Loss: 0.918 | Train Acc: 66.53%\n",
      "\t Val. Loss: 1.194 |  Val. Acc: 57.09%\n",
      "Epoch: 09 | Epoch Time: 0m 50s\n",
      "\tTrain Loss: 0.887 | Train Acc: 67.55%\n",
      "\t Val. Loss: 1.211 |  Val. Acc: 57.64%\n"
     ]
    }
   ],
   "source": [
    "import time\n",
    "\n",
    "N_EPOCHS = 10\n",
    "\n",
    "best_valid_loss = float('inf')\n",
    "\n",
    "for epoch in range(N_EPOCHS):\n",
    "\n",
    "    start_time = time.time()\n",
    "    \n",
    "    train_loss, train_acc = train(model, train_dataloader, optimizer, criterion, TAG_PAD_IDX)\n",
    "    valid_loss, valid_acc = evaluate(model, val_dataloader, criterion, TAG_PAD_IDX)\n",
    "    \n",
    "    end_time = time.time()\n",
    "\n",
    "    epoch_mins, epoch_secs = epoch_time(start_time, end_time)\n",
    "    \n",
    "    if valid_loss < best_valid_loss:\n",
    "        best_valid_loss = valid_loss\n",
    "        torch.save(model.state_dict(), 'tut1-model.pt')\n",
    "    \n",
    "    print(f'Epoch: {epoch+1:02} | Epoch Time: {epoch_mins}m {epoch_secs}s')\n",
    "    print(f'\\tTrain Loss: {train_loss:.3f} | Train Acc: {train_acc*100:.2f}%')\n",
    "    print(f'\\t Val. Loss: {valid_loss:.3f} |  Val. Acc: {valid_acc*100:.2f}%')\n",
    "\n"
   ]
  },
  {
   "cell_type": "code",
   "execution_count": null,
   "id": "37fc1b74",
   "metadata": {},
   "outputs": [],
   "source": [
    "model.load_state_dict(torch.load('tut1-model.pt'))\n",
    "test_loss, test_acc = evaluate(model, test_dataloader, criterion, TAG_PAD_IDX)\n",
    "print(f'Test Loss: {test_loss:.3f} |  Test Acc: {test_acc*100:.2f}%')"
   ]
  }
 ],
 "metadata": {
  "kernelspec": {
   "display_name": "IDMC",
   "language": "python",
   "name": "python3"
  },
  "language_info": {
   "codemirror_mode": {
    "name": "ipython",
    "version": 3
   },
   "file_extension": ".py",
   "mimetype": "text/x-python",
   "name": "python",
   "nbconvert_exporter": "python",
   "pygments_lexer": "ipython3",
   "version": "3.10.9"
  },
  "toc": {
   "base_numbering": 1,
   "nav_menu": {},
   "number_sections": true,
   "sideBar": true,
   "skip_h1_title": false,
   "title_cell": "Table of Contents",
   "title_sidebar": "Contents",
   "toc_cell": false,
   "toc_position": {},
   "toc_section_display": true,
   "toc_window_display": false
  },
  "vscode": {
   "interpreter": {
    "hash": "01277ed19dd0017932a54a8a0aaec2debdd7f379246510f558f4aa7f17b3bf32"
   }
  }
 },
 "nbformat": 4,
 "nbformat_minor": 5
}
